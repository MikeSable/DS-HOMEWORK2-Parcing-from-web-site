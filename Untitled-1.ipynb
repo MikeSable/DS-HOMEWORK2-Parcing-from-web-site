{
 "cells": [
  {
   "cell_type": "code",
   "execution_count": 113,
   "metadata": {},
   "outputs": [],
   "source": [
    "#Домашнее задание 2"
   ]
  },
  {
   "cell_type": "code",
   "execution_count": 114,
   "metadata": {},
   "outputs": [],
   "source": [
    "import requests"
   ]
  },
  {
   "cell_type": "code",
   "execution_count": 115,
   "metadata": {},
   "outputs": [],
   "source": [
    "offset_ = 2001\n",
    "limit_ = 6000\n",
    "url = f'https://xn--80az8a.xn--d1aqf.xn--p1ai/%D1%81%D0%B5%D1%80%D0%B2%D0%B8%D1%81%D1%8B/api/kn/object?offset={offset_}&limit={limit_}&sortField=devId.devShortCleanNm&sortType=asc&objStatus=0'\n",
    "res = requests.get(url)\n",
    "objects_data = res.json()"
   ]
  },
  {
   "cell_type": "code",
   "execution_count": 116,
   "metadata": {},
   "outputs": [
    {
     "data": {
      "text/plain": [
       "dict_keys(['data', 'errcode'])"
      ]
     },
     "execution_count": 116,
     "metadata": {},
     "output_type": "execute_result"
    }
   ],
   "source": [
    "objects_data.keys()"
   ]
  },
  {
   "cell_type": "code",
   "execution_count": 117,
   "metadata": {},
   "outputs": [],
   "source": [
    "objects_list = objects_data.get('data').get('list')"
   ]
  },
  {
   "cell_type": "code",
   "execution_count": 118,
   "metadata": {},
   "outputs": [],
   "source": [
    "objids = [x.get('objId') for x in objects_list]"
   ]
  },
  {
   "cell_type": "code",
   "execution_count": 119,
   "metadata": {},
   "outputs": [],
   "source": [
    "import pandas as pd"
   ]
  },
  {
   "cell_type": "code",
   "execution_count": 120,
   "metadata": {},
   "outputs": [],
   "source": [
    "df = pd.DataFrame(objects_list)"
   ]
  },
  {
   "cell_type": "code",
   "execution_count": 121,
   "metadata": {},
   "outputs": [],
   "source": [
    "df.to_excel (r'C:\\Users\\sobom\\OneDrive\\Рабочий стол\\DS-school\\HOMEWORK 2\\export_dataframe.xlsx', index = False, header=True)\n",
    "df.to_pickle (r'C:\\Users\\sobom\\OneDrive\\Рабочий стол\\DS-school\\HOMEWORK 2\\export_dataframe.pkl')"
   ]
  },
  {
   "cell_type": "code",
   "execution_count": null,
   "metadata": {},
   "outputs": [],
   "source": [
    "import sqlite3\n",
    "conn = sqlite3.connect('test_database')\n",
    "c = conn.cursor()\n",
    "c.execute('CREATE TABLE IF NOT EXISTS objects (index, objId, developer, rpdRegionCd, objAddr, objCommercNm, objFloorMin, objFloorMax, objElemLivingCnt, objReady100PercDt, objSquareLiving, objCompensFundFlg, objProblemFlg, latitude, longitude, complexShortName, problemFlag, siteStatus, objGuarantyEscrowFlg, residentialBuildings, rpdNum, pdId, buildType, objStatus)')\n",
    "conn.commit()\n",
    "df = pd.DataFrame(objects_list)"
   ]
  },
  {
   "cell_type": "code",
   "execution_count": null,
   "metadata": {},
   "outputs": [],
   "source": [
    "#Должно работать, но почему-то не работает, не могу понять в чем ошибка"
   ]
  },
  {
   "cell_type": "code",
   "execution_count": null,
   "metadata": {},
   "outputs": [],
   "source": [
    "df.to_sql(\"index\", \"objId\", \"developer\", \"rpdRegionCd\", \"objAddr\", \"objCommercNm\", \"objFloorMin\", \"objFloorMax\", \"objElemLivingCnt\", \"objReady100PercDt\", \"objSquareLiving\", \"objCompensFundFlg\", \"objProblemFlg\", \"latitude\", \"longitude\", \"complexShortName\", \"problemFlag\", \"siteStatus\", \"objGuarantyEscrowFlg\", \"residentialBuildings\", \"rpdNum\", \"pdId\", \"buildType\", \"objStatus\", conn, if_exists='replace', index = False)"
   ]
  }
 ],
 "metadata": {
  "interpreter": {
   "hash": "8a57cc74ccca34d9f0e4ac38bc6379c7d9198f6db866ba57d3f36edadb5f9cfc"
  },
  "kernelspec": {
   "display_name": "Python 3.9.7 64-bit ('base': conda)",
   "language": "python",
   "name": "python3"
  },
  "language_info": {
   "codemirror_mode": {
    "name": "ipython",
    "version": 3
   },
   "file_extension": ".py",
   "mimetype": "text/x-python",
   "name": "python",
   "nbconvert_exporter": "python",
   "pygments_lexer": "ipython3",
   "version": "3.9.7"
  },
  "orig_nbformat": 4
 },
 "nbformat": 4,
 "nbformat_minor": 2
}
